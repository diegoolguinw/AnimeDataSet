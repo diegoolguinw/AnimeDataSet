{
 "cells": [
  {
   "cell_type": "markdown",
   "metadata": {},
   "source": [
    "# Proyecto Mineria de Datos\n",
    "\n",
    "## Integrantes\n",
    "\n",
    "Ignacio Basualto, Raimundo Vicente, Renato Cerda, Sebastián Bustos y  Diego Olguín"
   ]
  },
  {
   "cell_type": "markdown",
   "metadata": {},
   "source": [
    "Elección de base de datos elegida gira entorno al tema: \"Caracterizar series de anime\". El dataset utilizado se encuentra en [link](https://www.kaggle.com/azathoth42/myanimelist)"
   ]
  },
  {
   "cell_type": "markdown",
   "metadata": {},
   "source": [
    "## Motivación"
   ]
  },
  {
   "cell_type": "markdown",
   "metadata": {},
   "source": [
    "Hoy en dia el anime forma gran parte de la cultura occidental, ha tenido un impacto grande en la sociedad; \n",
    "no solo dentro de japón si no que ha llegado a ser tendencia en todo el mundo. Como ejemplo de lo anterior se encuentra\n",
    "Shingeki no Kyojin / Attack On Tittan que es un anime que actualmente se encuentra en emisión que ha tenido de los ratings y recepeciones más altos dentro de la\n",
    "televisión y medios de comunicación. Por lo mismo el anime ha empezado a tener un efecto economico importante en la sociedad y por tal motivo es de interes poder comprender relaciones entre usuarios y los animes.\n",
    "\n",
    "Dado lo anterior podría ser de interes estudiar este dataset para comprender \n",
    "\n",
    "- La demografía de los auditores de anime.\n",
    "- El cambio que ha tenido el anime a lo largo de los años.\n",
    "- Estudiar el efecto que tienen ciertos productores o personas en el exito del anime \n",
    "- Ser capaz de hacer recomendaciones a usuarios sobre posibles animes que pueden interesarles dado sus gustos\n",
    "\n",
    "La base de datos presentada tiene tres sub datasets. **AnimeList:** Tiene la información de todos los animes que los usuarios han visto o quieren ver. **UserList:** Tiene toda la información de los usuarios. **AnimeUserList:** Tiene todos los pares (usuario,anime) donde el anime es alguno que el usuario ha marcado que esta interesado en ver o que ha visto."
   ]
  },
  {
   "cell_type": "markdown",
   "metadata": {},
   "source": [
    "Para AnimeList se decidieron borar columnas que presentaban un alto valor de NAN y aquellas que tenian información en otras columnas. Posterior a eso se borrar filas que tenina valores NAN. Para UserList se borraron columnas con un alto valor de NAN y se agregaron la información sobre los paises de los usuarios presentada en el mismo Kaggle de la base de datos [link](https://www.kaggle.com/azathoth42/myanimelist/discussion/87070). Y por ultimo en AnimeUserList se borraron columnas con muchos valores NAN y se borraron valores en las filas que fueron eliminados en columnas pasadas. El preprocesamiento en detalle se encuentra en [INSERTAR LINK]. Esta versión es una versión acortada del todo el estudio que se realizo, el jupyter notebook completo se encuentra en [Insertar Link]"
   ]
  },
  {
   "cell_type": "markdown",
   "metadata": {},
   "source": [
    "## Exploración<a class=\"anchor\" id=\"3.2\"></a>"
   ]
  },
  {
   "cell_type": "code",
   "execution_count": 1,
   "metadata": {},
   "outputs": [
    {
     "data": {
      "text/html": [
       "<script>\n",
       "code_show=true; \n",
       "function code_toggle() {\n",
       " if (code_show){\n",
       " $('div.input').hide();\n",
       " } else {\n",
       " $('div.input').show();\n",
       " }\n",
       " code_show = !code_show\n",
       "} \n",
       "$( document ).ready(code_toggle);\n",
       "</script>\n",
       "Por default el codigo en python esta oculto. Para activarlo / desactivarlo, click <a href=\"javascript:code_toggle()\">aqui</a>."
      ],
      "text/plain": [
       "<IPython.core.display.HTML object>"
      ]
     },
     "execution_count": 1,
     "metadata": {},
     "output_type": "execute_result"
    }
   ],
   "source": [
    "from IPython.display import HTML\n",
    "\n",
    "HTML('''<script>\n",
    "code_show=true; \n",
    "function code_toggle() {\n",
    " if (code_show){\n",
    " $('div.input').hide();\n",
    " } else {\n",
    " $('div.input').show();\n",
    " }\n",
    " code_show = !code_show\n",
    "} \n",
    "$( document ).ready(code_toggle);\n",
    "</script>\n",
    "Por default el codigo en python esta oculto. Para activarlo / desactivarlo, click <a href=\"javascript:code_toggle()\">aqui</a>.''')"
   ]
  },
  {
   "cell_type": "code",
   "execution_count": 2,
   "metadata": {},
   "outputs": [],
   "source": [
    "import pandas as pd\n",
    "import numpy as np\n",
    "import ast\n",
    "import matplotlib.pyplot as plt\n",
    "import seaborn as sns\n",
    "from scipy import stats"
   ]
  },
  {
   "cell_type": "code",
   "execution_count": 3,
   "metadata": {},
   "outputs": [],
   "source": [
    "animeList = pd.read_csv('Datos/animeListPreprocesada.csv')\n",
    "userList = pd.read_csv('Datos/userListPreprocesada.csv')\n",
    "userAnimeList = pd.read_csv('Datos/userAnimeListPreprocesada.csv')"
   ]
  },
  {
   "cell_type": "code",
   "execution_count": 4,
   "metadata": {},
   "outputs": [
    {
     "data": {
      "text/html": [
       "<div>\n",
       "<style scoped>\n",
       "    .dataframe tbody tr th:only-of-type {\n",
       "        vertical-align: middle;\n",
       "    }\n",
       "\n",
       "    .dataframe tbody tr th {\n",
       "        vertical-align: top;\n",
       "    }\n",
       "\n",
       "    .dataframe thead th {\n",
       "        text-align: right;\n",
       "    }\n",
       "</style>\n",
       "<table border=\"1\" class=\"dataframe\">\n",
       "  <thead>\n",
       "    <tr style=\"text-align: right;\">\n",
       "      <th></th>\n",
       "      <th>episodes</th>\n",
       "      <th>score</th>\n",
       "      <th>scored_by</th>\n",
       "      <th>members</th>\n",
       "      <th>favorites</th>\n",
       "      <th>duration_min</th>\n",
       "    </tr>\n",
       "  </thead>\n",
       "  <tbody>\n",
       "    <tr>\n",
       "      <th>count</th>\n",
       "      <td>6421.000000</td>\n",
       "      <td>6421.000000</td>\n",
       "      <td>6.421000e+03</td>\n",
       "      <td>6.421000e+03</td>\n",
       "      <td>6421.000000</td>\n",
       "      <td>6421.000000</td>\n",
       "    </tr>\n",
       "    <tr>\n",
       "      <th>mean</th>\n",
       "      <td>14.592120</td>\n",
       "      <td>6.884675</td>\n",
       "      <td>2.484137e+04</td>\n",
       "      <td>4.898079e+04</td>\n",
       "      <td>683.235789</td>\n",
       "      <td>28.907203</td>\n",
       "    </tr>\n",
       "    <tr>\n",
       "      <th>std</th>\n",
       "      <td>41.259427</td>\n",
       "      <td>0.879056</td>\n",
       "      <td>6.190538e+04</td>\n",
       "      <td>1.064004e+05</td>\n",
       "      <td>3796.057196</td>\n",
       "      <td>25.364305</td>\n",
       "    </tr>\n",
       "    <tr>\n",
       "      <th>min</th>\n",
       "      <td>1.000000</td>\n",
       "      <td>2.330000</td>\n",
       "      <td>2.000000e+00</td>\n",
       "      <td>3.100000e+01</td>\n",
       "      <td>0.000000</td>\n",
       "      <td>0.200000</td>\n",
       "    </tr>\n",
       "    <tr>\n",
       "      <th>25%</th>\n",
       "      <td>1.000000</td>\n",
       "      <td>6.380000</td>\n",
       "      <td>8.280000e+02</td>\n",
       "      <td>2.556000e+03</td>\n",
       "      <td>3.000000</td>\n",
       "      <td>20.000000</td>\n",
       "    </tr>\n",
       "    <tr>\n",
       "      <th>50%</th>\n",
       "      <td>6.000000</td>\n",
       "      <td>6.950000</td>\n",
       "      <td>4.389000e+03</td>\n",
       "      <td>1.118700e+04</td>\n",
       "      <td>23.000000</td>\n",
       "      <td>24.000000</td>\n",
       "    </tr>\n",
       "    <tr>\n",
       "      <th>75%</th>\n",
       "      <td>13.000000</td>\n",
       "      <td>7.470000</td>\n",
       "      <td>2.083000e+04</td>\n",
       "      <td>4.537600e+04</td>\n",
       "      <td>153.000000</td>\n",
       "      <td>28.000000</td>\n",
       "    </tr>\n",
       "    <tr>\n",
       "      <th>max</th>\n",
       "      <td>1818.000000</td>\n",
       "      <td>9.250000</td>\n",
       "      <td>1.009477e+06</td>\n",
       "      <td>1.456378e+06</td>\n",
       "      <td>106895.000000</td>\n",
       "      <td>163.000000</td>\n",
       "    </tr>\n",
       "  </tbody>\n",
       "</table>\n",
       "</div>"
      ],
      "text/plain": [
       "          episodes        score     scored_by       members      favorites  \\\n",
       "count  6421.000000  6421.000000  6.421000e+03  6.421000e+03    6421.000000   \n",
       "mean     14.592120     6.884675  2.484137e+04  4.898079e+04     683.235789   \n",
       "std      41.259427     0.879056  6.190538e+04  1.064004e+05    3796.057196   \n",
       "min       1.000000     2.330000  2.000000e+00  3.100000e+01       0.000000   \n",
       "25%       1.000000     6.380000  8.280000e+02  2.556000e+03       3.000000   \n",
       "50%       6.000000     6.950000  4.389000e+03  1.118700e+04      23.000000   \n",
       "75%      13.000000     7.470000  2.083000e+04  4.537600e+04     153.000000   \n",
       "max    1818.000000     9.250000  1.009477e+06  1.456378e+06  106895.000000   \n",
       "\n",
       "       duration_min  \n",
       "count   6421.000000  \n",
       "mean      28.907203  \n",
       "std       25.364305  \n",
       "min        0.200000  \n",
       "25%       20.000000  \n",
       "50%       24.000000  \n",
       "75%       28.000000  \n",
       "max      163.000000  "
      ]
     },
     "execution_count": 4,
     "metadata": {},
     "output_type": "execute_result"
    }
   ],
   "source": [
    "listToDescribe = ['episodes','score','scored_by','members','favorites','duration_min']\n",
    "animeList[listToDescribe].describe()"
   ]
  },
  {
   "cell_type": "markdown",
   "metadata": {},
   "source": [
    "Dado que son muchos generos no se mostrara su tabla de estadistica de resumen, para eso mostraremos un grafico con la cantidad y el promedio."
   ]
  },
  {
   "cell_type": "code",
   "execution_count": 5,
   "metadata": {
    "scrolled": false
   },
   "outputs": [
    {
     "data": {
      "image/png": "[encoded data removed]",
      "text/plain": [
       "<Figure size 1080x216 with 1 Axes>"
      ]
     },
     "metadata": {
      "needs_background": "light"
     },
     "output_type": "display_data"
    }
   ],
   "source": [
    "genreAnimeList = animeList.drop(columns = ['anime_id', 'title', 'type', 'source','episodes','score','scored_by','members','favorites','duration_min','airing','rating','related','studio','aired_initial_year','aired_final_year'])\n",
    "\n",
    "diccGenereSum = {}\n",
    "\n",
    "for columns in genreAnimeList.columns:\n",
    "    listOfColumn = genreAnimeList[columns].tolist()\n",
    "    diccGenereSum[columns] = sum(listOfColumn)\n",
    "\n",
    "dataFrameGenereSum  = pd.DataFrame(diccGenereSum.values(), columns=['Cantidad'])\n",
    "dataFrameGenereSum.index = list(diccGenereSum.keys())\n",
    "dataFrameGenereSum = dataFrameGenereSum.sort_values(by=['Cantidad'],ascending = False)\n",
    "\n",
    "dataFrameGenereSum.plot.bar(figsize =(15,3))\n",
    "plt.xlabel('Genero anime')\n",
    "plt.ylabel('Cantidad')\n",
    "plt.title('Cantidad vs Genero de anime')\n",
    "plt.show()"
   ]
  },
  {
   "cell_type": "markdown",
   "metadata": {},
   "source": [
    "En el grafico se puede apreciar como hay una clara preferencia por el genero de comedia. Miremos la cantidad de animes que han sido iniciados por año"
   ]
  },
  {
   "cell_type": "code",
   "execution_count": 6,
   "metadata": {},
   "outputs": [
    {
     "data": {
      "image/png": "[encoded data removed]",
      "text/plain": [
       "<Figure size 1080x216 with 1 Axes>"
      ]
     },
     "metadata": {
      "needs_background": "light"
     },
     "output_type": "display_data"
    }
   ],
   "source": [
    "yearList = animeList['aired_initial_year'].tolist()\n",
    "\n",
    "plt.figure(figsize=(15,3))\n",
    "plt.hist(yearList,bins = 76)\n",
    "plt.ylabel('Cantidad')\n",
    "plt.xlabel('Año pulicación de anime')\n",
    "plt.show()"
   ]
  },
  {
   "cell_type": "markdown",
   "metadata": {},
   "source": [
    "Como se puede apreciar en los ultimos años se ha tenido un crecimiento exponencial en la cantidad de animes que han sido publicados, luego es de interes entender cuales son las tendencias que han ido apareciendo y cuales han tenido un mayor efecto en los usuarios."
   ]
  },
  {
   "cell_type": "code",
   "execution_count": 7,
   "metadata": {},
   "outputs": [
    {
     "data": {
      "text/plain": [
       "Toei Animation    396\n",
       "Sunrise           272\n",
       "Madhouse          240\n",
       "J.C.Staff         230\n",
       "Studio Pierrot    222\n",
       "Name: Studio, dtype: int64"
      ]
     },
     "execution_count": 7,
     "metadata": {},
     "output_type": "execute_result"
    }
   ],
   "source": [
    "studioList = animeList['studio'].tolist()\n",
    "uniqueSize = len(animeList['studio'].unique())\n",
    "\n",
    "# Tabla de frecuencias\n",
    "dataFrame = pd.DataFrame(studioList,columns=['Studio'])\n",
    "dataFrame = dataFrame.sort_values(by = 'Studio')\n",
    "dataFrame['Studio'].value_counts().head()"
   ]
  },
  {
   "cell_type": "markdown",
   "metadata": {},
   "source": [
    "Existen demasiados estudios de anime para observar relaciones de manera grafica, pero hay algunos que tienen más distribución que las demas pero como se puede observar en la tabla de frecuencias el estudio \"Toei Animation\" tiene una predominancia en la cantidad de animes, luego surge la pregunta si posible predecir la popularidad de un anime teniendo en cuenta el estudio por el que fue hecho y más caracteristicas que pueden estar presentes."
   ]
  },
  {
   "cell_type": "code",
   "execution_count": 8,
   "metadata": {},
   "outputs": [
    {
     "data": {
      "text/html": [
       "<div>\n",
       "<style scoped>\n",
       "    .dataframe tbody tr th:only-of-type {\n",
       "        vertical-align: middle;\n",
       "    }\n",
       "\n",
       "    .dataframe tbody tr th {\n",
       "        vertical-align: top;\n",
       "    }\n",
       "\n",
       "    .dataframe thead th {\n",
       "        text-align: right;\n",
       "    }\n",
       "</style>\n",
       "<table border=\"1\" class=\"dataframe\">\n",
       "  <thead>\n",
       "    <tr style=\"text-align: right;\">\n",
       "      <th></th>\n",
       "      <th>user_watching</th>\n",
       "      <th>user_completed</th>\n",
       "      <th>user_onhold</th>\n",
       "      <th>user_dropped</th>\n",
       "      <th>user_plantowatch</th>\n",
       "      <th>user_days_spent_watching</th>\n",
       "      <th>stats_mean_score</th>\n",
       "      <th>stats_rewatched</th>\n",
       "      <th>stats_episodes</th>\n",
       "    </tr>\n",
       "  </thead>\n",
       "  <tbody>\n",
       "    <tr>\n",
       "      <th>count</th>\n",
       "      <td>108705.000000</td>\n",
       "      <td>108705.000000</td>\n",
       "      <td>108705.000000</td>\n",
       "      <td>108705.000000</td>\n",
       "      <td>108705.000000</td>\n",
       "      <td>108705.000000</td>\n",
       "      <td>108705.000000</td>\n",
       "      <td>108705.000000</td>\n",
       "      <td>108705.000000</td>\n",
       "    </tr>\n",
       "    <tr>\n",
       "      <th>mean</th>\n",
       "      <td>14.767453</td>\n",
       "      <td>196.462012</td>\n",
       "      <td>11.388280</td>\n",
       "      <td>11.733950</td>\n",
       "      <td>75.579596</td>\n",
       "      <td>61.915104</td>\n",
       "      <td>7.747605</td>\n",
       "      <td>14.198372</td>\n",
       "      <td>3779.946074</td>\n",
       "    </tr>\n",
       "    <tr>\n",
       "      <th>std</th>\n",
       "      <td>32.747425</td>\n",
       "      <td>244.950891</td>\n",
       "      <td>30.831647</td>\n",
       "      <td>30.979778</td>\n",
       "      <td>178.658230</td>\n",
       "      <td>59.213037</td>\n",
       "      <td>1.451397</td>\n",
       "      <td>55.378247</td>\n",
       "      <td>3678.416095</td>\n",
       "    </tr>\n",
       "    <tr>\n",
       "      <th>min</th>\n",
       "      <td>0.000000</td>\n",
       "      <td>0.000000</td>\n",
       "      <td>0.000000</td>\n",
       "      <td>0.000000</td>\n",
       "      <td>0.000000</td>\n",
       "      <td>0.500694</td>\n",
       "      <td>0.000000</td>\n",
       "      <td>0.000000</td>\n",
       "      <td>7.000000</td>\n",
       "    </tr>\n",
       "    <tr>\n",
       "      <th>25%</th>\n",
       "      <td>3.000000</td>\n",
       "      <td>50.000000</td>\n",
       "      <td>0.000000</td>\n",
       "      <td>0.000000</td>\n",
       "      <td>6.000000</td>\n",
       "      <td>21.065278</td>\n",
       "      <td>7.330000</td>\n",
       "      <td>0.000000</td>\n",
       "      <td>1269.000000</td>\n",
       "    </tr>\n",
       "    <tr>\n",
       "      <th>50%</th>\n",
       "      <td>7.000000</td>\n",
       "      <td>123.000000</td>\n",
       "      <td>4.000000</td>\n",
       "      <td>3.000000</td>\n",
       "      <td>27.000000</td>\n",
       "      <td>46.195139</td>\n",
       "      <td>7.890000</td>\n",
       "      <td>1.000000</td>\n",
       "      <td>2797.000000</td>\n",
       "    </tr>\n",
       "    <tr>\n",
       "      <th>75%</th>\n",
       "      <td>16.000000</td>\n",
       "      <td>254.000000</td>\n",
       "      <td>12.000000</td>\n",
       "      <td>12.000000</td>\n",
       "      <td>81.000000</td>\n",
       "      <td>84.462500</td>\n",
       "      <td>8.460000</td>\n",
       "      <td>10.000000</td>\n",
       "      <td>5136.000000</td>\n",
       "    </tr>\n",
       "    <tr>\n",
       "      <th>max</th>\n",
       "      <td>2934.000000</td>\n",
       "      <td>5479.000000</td>\n",
       "      <td>2562.000000</td>\n",
       "      <td>2457.000000</td>\n",
       "      <td>12051.000000</td>\n",
       "      <td>952.654595</td>\n",
       "      <td>10.000000</td>\n",
       "      <td>9404.000000</td>\n",
       "      <td>62347.000000</td>\n",
       "    </tr>\n",
       "  </tbody>\n",
       "</table>\n",
       "</div>"
      ],
      "text/plain": [
       "       user_watching  user_completed    user_onhold   user_dropped  \\\n",
       "count  108705.000000   108705.000000  108705.000000  108705.000000   \n",
       "mean       14.767453      196.462012      11.388280      11.733950   \n",
       "std        32.747425      244.950891      30.831647      30.979778   \n",
       "min         0.000000        0.000000       0.000000       0.000000   \n",
       "25%         3.000000       50.000000       0.000000       0.000000   \n",
       "50%         7.000000      123.000000       4.000000       3.000000   \n",
       "75%        16.000000      254.000000      12.000000      12.000000   \n",
       "max      2934.000000     5479.000000    2562.000000    2457.000000   \n",
       "\n",
       "       user_plantowatch  user_days_spent_watching  stats_mean_score  \\\n",
       "count     108705.000000             108705.000000     108705.000000   \n",
       "mean          75.579596                 61.915104          7.747605   \n",
       "std          178.658230                 59.213037          1.451397   \n",
       "min            0.000000                  0.500694          0.000000   \n",
       "25%            6.000000                 21.065278          7.330000   \n",
       "50%           27.000000                 46.195139          7.890000   \n",
       "75%           81.000000                 84.462500          8.460000   \n",
       "max        12051.000000                952.654595         10.000000   \n",
       "\n",
       "       stats_rewatched  stats_episodes  \n",
       "count    108705.000000   108705.000000  \n",
       "mean         14.198372     3779.946074  \n",
       "std          55.378247     3678.416095  \n",
       "min           0.000000        7.000000  \n",
       "25%           0.000000     1269.000000  \n",
       "50%           1.000000     2797.000000  \n",
       "75%          10.000000     5136.000000  \n",
       "max        9404.000000    62347.000000  "
      ]
     },
     "execution_count": 8,
     "metadata": {},
     "output_type": "execute_result"
    }
   ],
   "source": [
    "userList.describe()"
   ]
  },
  {
   "cell_type": "code",
   "execution_count": 9,
   "metadata": {
    "scrolled": false
   },
   "outputs": [
    {
     "data": {
      "image/png": "[encoded data removed]",
      "text/plain": [
       "<Figure size 1080x216 with 1 Axes>"
      ]
     },
     "metadata": {
      "needs_background": "light"
     },
     "output_type": "display_data"
    }
   ],
   "source": [
    "viewingList = userList['user_watching'].tolist()\n",
    "viewingList = sorted(viewingList)[:len(viewingList)-1000]\n",
    "\n",
    "plt.figure(figsize=(15,3))\n",
    "plt.hist(viewingList,bins = 129)\n",
    "plt.axvline(x=2,color='black',label='2 Animes')\n",
    "plt.legend()\n",
    "plt.ylabel('Cantidad')\n",
    "plt.xlabel('Cantidad de animes que esta viendo')\n",
    "plt.show()"
   ]
  },
  {
   "cell_type": "markdown",
   "metadata": {},
   "source": [
    "Como se puede apreciar la mayoria de las personas ven 2 animes a la vez, y el numero empieza a decrecer exponencialmente. También notamos que existe un número no menor de personas que no estan viendo nigún anime luego sería de interes revisar si han visto alguna vez anime, si la respuesta es no estos usuarios no parecierían generar información para estudiar y entonces podrían no considerarse en los datos para los siguientes hitos. Ahora observemos la identidad de Genero de los usuarios."
   ]
  },
  {
   "cell_type": "code",
   "execution_count": 12,
   "metadata": {},
   "outputs": [
    {
     "data": {
      "image/png": "[encoded data removed]",
      "text/plain": [
       "<Figure size 1080x216 with 1 Axes>"
      ]
     },
     "metadata": {
      "needs_background": "light"
     },
     "output_type": "display_data"
    }
   ],
   "source": [
    "userGender = userList['gender'].tolist()\n",
    "\n",
    "diccToPlot = {}\n",
    "\n",
    "for gender in userGender:\n",
    "    if(not gender in diccToPlot):\n",
    "        diccToPlot[gender] = 0\n",
    "    diccToPlot[gender] += 1\n",
    "    \n",
    "plt.figure(figsize=(15,3))\n",
    "plt.bar(range(len(diccToPlot)), list(diccToPlot.values()), align='center')\n",
    "plt.xticks(range(len(diccToPlot)), list(diccToPlot.keys()))\n",
    "plt.xlabel('Identida de Genero')\n",
    "plt.ylabel('Cantidad')\n",
    "plt.show()"
   ]
  },
  {
   "cell_type": "markdown",
   "metadata": {},
   "source": [
    "Como se puede apreciar existe una diferencia entre la cantida de usuarios que se identifican como hombre, mujer y no binario. Ahora observemos la edad de los usuarios"
   ]
  },
  {
   "cell_type": "code",
   "execution_count": 13,
   "metadata": {},
   "outputs": [
    {
     "data": {
      "image/png": "[encoded data removed]",
      "text/plain": [
       "<Figure size 1080x216 with 1 Axes>"
      ]
     },
     "metadata": {
      "needs_background": "light"
     },
     "output_type": "display_data"
    }
   ],
   "source": [
    "from datetime import date, datetime\n",
    "\n",
    "def calculate_age(born):\n",
    "    today = date.today()\n",
    "    return today.year - born.year - ((today.month, today.day) < (born.month, born.day))\n",
    "\n",
    "listAge = []\n",
    "bornDate = userList['birth_date'].tolist()\n",
    "for i in bornDate:\n",
    "    i = datetime.strptime(i, '%Y-%m-%d').date()\n",
    "    listAge.append(calculate_age(i))\n",
    "\n",
    "listAge = sorted(listAge)\n",
    "\n",
    "plt.figure(figsize=(15,3))\n",
    "plt.hist(listAge,bins = len(np.unique(listAge)))\n",
    "plt.ylabel('Cantidad')\n",
    "plt.xlabel('Edad')\n",
    "plt.show()"
   ]
  },
  {
   "cell_type": "code",
   "execution_count": 14,
   "metadata": {},
   "outputs": [
    {
     "name": "stdout",
     "output_type": "stream",
     "text": [
      "Mean: 27.389098937491376\n",
      "Std: 4.636767368546361\n"
     ]
    }
   ],
   "source": [
    "print('Mean: '+str(np.mean(listAge)))\n",
    "print('Std: '+str(np.std(listAge)))"
   ]
  },
  {
   "cell_type": "markdown",
   "metadata": {},
   "source": [
    "Como se puede apreciar se tiene una curva Gaussiana con promedio de 27 años y desviación estandar de 4 años.\n",
    "\n",
    "Por otro lado estudiemos el crecimiento que ha tenido la plataforma y la actividad de los usuarios"
   ]
  },
  {
   "cell_type": "code",
   "execution_count": 15,
   "metadata": {},
   "outputs": [
    {
     "data": {
      "image/png": "[encoded data removed]",
      "text/plain": [
       "<Figure size 1080x216 with 1 Axes>"
      ]
     },
     "metadata": {
      "needs_background": "light"
     },
     "output_type": "display_data"
    }
   ],
   "source": [
    "listJoinDate = []\n",
    "joinDate = userList['join_date'].tolist()\n",
    "for i in joinDate:\n",
    "    listJoinDate.append(i.split('-')[0])\n",
    "\n",
    "listJoinDate = sorted(listJoinDate)\n",
    "\n",
    "plt.figure(figsize=(15,3))\n",
    "plt.hist(listJoinDate,bins = len(np.unique(listJoinDate)))\n",
    "plt.ylabel('Cantidad')\n",
    "plt.xlabel('Fecha de Unirse')\n",
    "plt.show()"
   ]
  },
  {
   "cell_type": "code",
   "execution_count": 16,
   "metadata": {},
   "outputs": [
    {
     "data": {
      "image/png": "[encoded data removed]",
      "text/plain": [
       "<Figure size 1080x216 with 1 Axes>"
      ]
     },
     "metadata": {
      "needs_background": "light"
     },
     "output_type": "display_data"
    }
   ],
   "source": [
    "listJoinDate = []\n",
    "joinDate = userList['last_online'].tolist()\n",
    "for i in joinDate:\n",
    "    listJoinDate.append(i.split('-')[0])\n",
    "\n",
    "listJoinDate = sorted(listJoinDate)\n",
    "\n",
    "plt.figure(figsize=(15,3))\n",
    "plt.hist(listJoinDate,bins = len(np.unique(listJoinDate)))\n",
    "plt.ylabel('Cantidad')\n",
    "plt.xlabel('Fecha Ultima visita')\n",
    "plt.show()"
   ]
  },
  {
   "cell_type": "markdown",
   "metadata": {},
   "source": [
    "Como se puede apreciar la cantidad de gente que se ha unido a la pagina en los ultimos años ha disminuido pero el uso de la plataforma se ha mantendio activo. Por otro lado estudiemos el rango etario de los usuarios. Una distribución factible es **Menores de 18**,**De 18 a 30 Años** y **Mayores de 30**."
   ]
  },
  {
   "cell_type": "code",
   "execution_count": 17,
   "metadata": {},
   "outputs": [],
   "source": [
    "diccRangoEtario = {'menor 18':[],'18 a 30':[],'mayor 30':[]}\n",
    "\n",
    "bornDate = userList[['username','birth_date']]\n",
    "\n",
    "for i in range(len(bornDate)):\n",
    "    age = calculate_age(datetime.strptime(bornDate.loc[i,'birth_date'], '%Y-%m-%d').date())\n",
    "    if(age <18):\n",
    "        diccRangoEtario['menor 18'].append(bornDate.loc[i,'username'])\n",
    "    elif(age <= 30):\n",
    "        diccRangoEtario['18 a 30'].append(bornDate.loc[i,'username'])\n",
    "    else:\n",
    "        diccRangoEtario['mayor 30'].append(bornDate.loc[i,'username'])"
   ]
  },
  {
   "cell_type": "code",
   "execution_count": 18,
   "metadata": {},
   "outputs": [
    {
     "data": {
      "image/png": "[encoded data removed]",
      "text/plain": [
       "<Figure size 1080x216 with 1 Axes>"
      ]
     },
     "metadata": {
      "needs_background": "light"
     },
     "output_type": "display_data"
    }
   ],
   "source": [
    "# Se demora en correr\n",
    "animeSeenMenor = 0\n",
    "animeSeenIntermedio = 0\n",
    "animeSeenMayor = 0\n",
    "\n",
    "for i in range(len(userList)):\n",
    "    username = userList.loc[i,'username']\n",
    "    if(username in diccRangoEtario['menor 18']):\n",
    "        animeSeenMenor +=userList.loc[i,'user_watching']+userList.loc[i,'user_completed'] \n",
    "    elif(username in diccRangoEtario['18 a 30']):\n",
    "        animeSeenIntermedio +=userList.loc[i,'user_watching'] +userList.loc[i,'user_completed'] \n",
    "    else:\n",
    "        animeSeenMayor +=userList.loc[i,'user_watching'] +userList.loc[i,'user_completed'] \n",
    "        \n",
    "diccSeen = {'menor 18':animeSeenMenor,'18 a 30':animeSeenIntermedio,'mayor 30':animeSeenMayor}\n",
    "plt.figure(figsize=(15,3))\n",
    "plt.bar(diccSeen.keys(),diccSeen.values())\n",
    "plt.ylabel('Cantidad de Animes Total')\n",
    "plt.show()"
   ]
  },
  {
   "cell_type": "markdown",
   "metadata": {},
   "source": [
    "Como se puede apreciar la clasificación \"18 a 30\" es la que predomina. A continuación estudiemos los generos de anime con respecto a las identidades de genero"
   ]
  },
  {
   "cell_type": "code",
   "execution_count": 19,
   "metadata": {},
   "outputs": [],
   "source": [
    "maleUsers = userList['gender']=='Male'\n",
    "maleUsers = userList[maleUsers]\n",
    "\n",
    "maleUsersUsername = maleUsers['username'].tolist()\n",
    "\n",
    "maleUsersAnimes = userAnimeList[userAnimeList['username'].isin(maleUsersUsername)]\n",
    "maleUsersAnimes = maleUsersAnimes['anime_id'].tolist()\n",
    "\n",
    "femaleUsers = userList['gender']=='Female'\n",
    "femaleUsers = userList[femaleUsers]\n",
    "\n",
    "femaleUsersUsername = femaleUsers['username'].tolist()\n",
    "\n",
    "femaleUsersAnimes = userAnimeList[userAnimeList['username'].isin(femaleUsersUsername)]\n",
    "femaleUsersAnimes = femaleUsersAnimes['anime_id'].tolist()\n",
    "\n",
    "nonBinaryUsers = userList['gender']=='Non-Binary'\n",
    "nonBinaryUsers = userList[nonBinaryUsers]\n",
    "\n",
    "nonBinaryUsersUsername = nonBinaryUsers['username'].tolist()\n",
    "\n",
    "nonBinaryUsersAnimes = userAnimeList[userAnimeList['username'].isin(nonBinaryUsersUsername)]\n",
    "nonBinaryUsersAnimes = nonBinaryUsersAnimes['anime_id'].tolist()\n",
    "\n",
    "maleAnimeList = animeList[animeList['anime_id'].isin(maleUsersAnimes)]\n",
    "\n",
    "genreAnimeList = maleAnimeList.drop(columns = ['anime_id', 'title', 'type', 'source','episodes','score','scored_by','members','favorites','duration_min','airing','rating','related','studio','aired_initial_year','aired_final_year'])\n",
    "\n",
    "diccGenereSum = {}\n",
    "\n",
    "for columns in genreAnimeList.columns:\n",
    "    listOfColumn = genreAnimeList[columns].tolist()\n",
    "    diccGenereSum[columns] = sum(listOfColumn)\n",
    "\n",
    "dataFrameGenereSum  = pd.DataFrame(diccGenereSum.values(), columns=['Cantidad'])\n",
    "dataFrameGenereSum.index = list(diccGenereSum.keys())\n",
    "dataFrameGenereSum = dataFrameGenereSum.sort_values(by=['Cantidad'],ascending = False)\n",
    "\n",
    "maleGenere = list(dataFrameGenereSum.index)\n",
    "\n",
    "femaleAnimeList = animeList[animeList['anime_id'].isin(femaleUsersAnimes)]\n",
    "\n",
    "genreAnimeList = femaleAnimeList.drop(columns = ['anime_id', 'title', 'type', 'source','episodes','score','scored_by','members','favorites','duration_min','airing','rating','related','studio','aired_initial_year','aired_final_year'])\n",
    "\n",
    "diccGenereSum = {}\n",
    "\n",
    "for columns in genreAnimeList.columns:\n",
    "    listOfColumn = genreAnimeList[columns].tolist()\n",
    "    diccGenereSum[columns] = sum(listOfColumn)\n",
    "\n",
    "dataFrameGenereSum  = pd.DataFrame(diccGenereSum.values(), columns=['Cantidad'])\n",
    "dataFrameGenereSum.index = list(diccGenereSum.keys())\n",
    "dataFrameGenereSum = dataFrameGenereSum.sort_values(by=['Cantidad'],ascending = False)\n",
    "\n",
    "femaleGenere = list(dataFrameGenereSum.index)\n",
    "\n",
    "nonBinaryAnimeList = animeList[animeList['anime_id'].isin(nonBinaryUsersAnimes)]\n",
    "\n",
    "genreAnimeList = nonBinaryAnimeList.drop(columns = ['anime_id', 'title', 'type', 'source','episodes','score','scored_by','members','favorites','duration_min','airing','rating','related','studio','aired_initial_year','aired_final_year'])\n",
    "\n",
    "diccGenereSum = {}\n",
    "\n",
    "for columns in genreAnimeList.columns:\n",
    "    listOfColumn = genreAnimeList[columns].tolist()\n",
    "    diccGenereSum[columns] = sum(listOfColumn)\n",
    "\n",
    "dataFrameGenereSum  = pd.DataFrame(diccGenereSum.values(), columns=['Cantidad'])\n",
    "dataFrameGenereSum.index = list(diccGenereSum.keys())\n",
    "dataFrameGenereSum = dataFrameGenereSum.sort_values(by=['Cantidad'],ascending = False)\n",
    "\n",
    "nonBinaryGenere = list(dataFrameGenereSum.index)\n",
    "\n",
    "listaValores = []\n",
    "for i in range(len(nonBinaryGenere)):\n",
    "    listaValores.append([maleGenere[i],femaleGenere[i],nonBinaryGenere[i]])\n",
    "\n",
    "orderdf = pd.DataFrame(listaValores,columns = ['Male','Female','Non-Binary'])"
   ]
  },
  {
   "cell_type": "markdown",
   "metadata": {},
   "source": [
    "Se puede apreciar si existe cierta diferencia entre los generos de anime vistos y la identidad de genero, estas diferencias se presentan a continuación (solo se muestra el head del data frame)."
   ]
  },
  {
   "cell_type": "code",
   "execution_count": 20,
   "metadata": {},
   "outputs": [],
   "source": [
    "aux1 = orderdf['Male'] != orderdf['Female']\n",
    "aux2 = orderdf['Female'] != orderdf['Non-Binary']\n",
    "aux3 = orderdf['Male'] != orderdf['Non-Binary']"
   ]
  },
  {
   "cell_type": "code",
   "execution_count": 21,
   "metadata": {},
   "outputs": [
    {
     "data": {
      "text/html": [
       "<div>\n",
       "<style scoped>\n",
       "    .dataframe tbody tr th:only-of-type {\n",
       "        vertical-align: middle;\n",
       "    }\n",
       "\n",
       "    .dataframe tbody tr th {\n",
       "        vertical-align: top;\n",
       "    }\n",
       "\n",
       "    .dataframe thead th {\n",
       "        text-align: right;\n",
       "    }\n",
       "</style>\n",
       "<table border=\"1\" class=\"dataframe\">\n",
       "  <thead>\n",
       "    <tr style=\"text-align: right;\">\n",
       "      <th></th>\n",
       "      <th>Male</th>\n",
       "      <th>Female</th>\n",
       "      <th>Non-Binary</th>\n",
       "    </tr>\n",
       "  </thead>\n",
       "  <tbody>\n",
       "    <tr>\n",
       "      <th>3</th>\n",
       "      <td>Adventure</td>\n",
       "      <td>Adventure</td>\n",
       "      <td>Drama</td>\n",
       "    </tr>\n",
       "    <tr>\n",
       "      <th>4</th>\n",
       "      <td>Drama</td>\n",
       "      <td>Drama</td>\n",
       "      <td>Adventure</td>\n",
       "    </tr>\n",
       "    <tr>\n",
       "      <th>6</th>\n",
       "      <td>Shounen</td>\n",
       "      <td>Shounen</td>\n",
       "      <td>Romance</td>\n",
       "    </tr>\n",
       "    <tr>\n",
       "      <th>7</th>\n",
       "      <td>Romance</td>\n",
       "      <td>Romance</td>\n",
       "      <td>Shounen</td>\n",
       "    </tr>\n",
       "    <tr>\n",
       "      <th>18</th>\n",
       "      <td>Kids</td>\n",
       "      <td>SuperPower</td>\n",
       "      <td>SuperPower</td>\n",
       "    </tr>\n",
       "  </tbody>\n",
       "</table>\n",
       "</div>"
      ],
      "text/plain": [
       "         Male      Female  Non-Binary\n",
       "3   Adventure   Adventure       Drama\n",
       "4       Drama       Drama   Adventure\n",
       "6     Shounen     Shounen     Romance\n",
       "7     Romance     Romance     Shounen\n",
       "18       Kids  SuperPower  SuperPower"
      ]
     },
     "execution_count": 21,
     "metadata": {},
     "output_type": "execute_result"
    }
   ],
   "source": [
    "orderdf[aux1 | aux2 | aux3].head()"
   ]
  },
  {
   "cell_type": "markdown",
   "metadata": {},
   "source": [
    "Se puede apreciar la diferencia entre Male y Female se encuentra en los valores centrales del ranking, mientras que las diferencias entre Female y Non-Binary / Male y Non-Binary se encuentran distribuidos a traves del ranking y en mucha mayor cantidad que Male y Female. Es de interes ver si es posible predecir la identidad de genero dado los animes que el usuario a visto. Además de esta pregunta se puede plantear un la idea de generar un recomendador de animes, dado un usuario y cierta lista de animes que ha visto tiene un valor importante, al menos desde un punto de vista economico, ser capaz de entregar animes que pueden interesarle al usuario.\n",
    "\n",
    "A continuación observemos la distribución de los generos de anime versus el rango etario al que pertenecen los usuarios."
   ]
  },
  {
   "cell_type": "code",
   "execution_count": 22,
   "metadata": {},
   "outputs": [],
   "source": [
    "menorUsersAnimes = userAnimeList[userAnimeList['username'].isin(diccRangoEtario['menor 18'])]\n",
    "menorUsersAnimes = menorUsersAnimes['anime_id'].tolist()\n",
    "\n",
    "intermedioUsersAnimes = userAnimeList[userAnimeList['username'].isin(diccRangoEtario['18 a 30'])]\n",
    "intermedioUsersAnimes = intermedioUsersAnimes['anime_id'].tolist()\n",
    "\n",
    "mayorUsersAnimes = userAnimeList[userAnimeList['username'].isin(diccRangoEtario['mayor 30'])]\n",
    "mayorUsersAnimes = mayorUsersAnimes['anime_id'].tolist()\n",
    "\n",
    "menorAnimeList = animeList[animeList['anime_id'].isin(menorUsersAnimes)]\n",
    "\n",
    "menorAnimeList = menorAnimeList.drop(columns = ['anime_id', 'title', 'type', 'source','episodes','score','scored_by','members','favorites','duration_min','airing','rating','related','studio','aired_initial_year','aired_final_year'])\n",
    "\n",
    "diccSum = {}\n",
    "\n",
    "for columns in menorAnimeList.columns:\n",
    "    listOfColumn = menorAnimeList[columns].tolist()\n",
    "    diccSum[columns] = sum(listOfColumn)\n",
    "\n",
    "dataFrameSum  = pd.DataFrame(diccSum.values(), columns=['Cantidad'])\n",
    "dataFrameSum.index = list(diccSum.keys())\n",
    "dataFrameSum = dataFrameSum.sort_values(by=['Cantidad'],ascending = False)\n",
    "\n",
    "menorList = list(dataFrameSum.index)\n",
    "\n",
    "intermedioAnimeList = animeList[animeList['anime_id'].isin(intermedioUsersAnimes)]\n",
    "\n",
    "intermedioAnimeList = intermedioAnimeList.drop(columns = ['anime_id', 'title', 'type', 'source','episodes','score','scored_by','members','favorites','duration_min','airing','rating','related','studio','aired_initial_year','aired_final_year'])\n",
    "\n",
    "diccSum = {}\n",
    "\n",
    "for columns in intermedioAnimeList.columns:\n",
    "    listOfColumn = intermedioAnimeList[columns].tolist()\n",
    "    diccSum[columns] = sum(listOfColumn)\n",
    "\n",
    "dataFrameSum  = pd.DataFrame(diccSum.values(), columns=['Cantidad'])\n",
    "dataFrameSum.index = list(diccSum.keys())\n",
    "dataFrameSum = dataFrameSum.sort_values(by=['Cantidad'],ascending = False)\n",
    "\n",
    "intermedio = list(dataFrameSum.index)\n",
    "\n",
    "mayoresAnimeList = animeList[animeList['anime_id'].isin(mayorUsersAnimes)]\n",
    "\n",
    "mayoresAnimeList = mayoresAnimeList.drop(columns = ['anime_id', 'title', 'type', 'source','episodes','score','scored_by','members','favorites','duration_min','airing','rating','related','studio','aired_initial_year','aired_final_year'])\n",
    "\n",
    "diccSum = {}\n",
    "\n",
    "for columns in mayoresAnimeList.columns:\n",
    "    listOfColumn = mayoresAnimeList[columns].tolist()\n",
    "    diccSum[columns] = sum(listOfColumn)\n",
    "\n",
    "dataFrameSum  = pd.DataFrame(diccSum.values(), columns=['Cantidad'])\n",
    "dataFrameSum.index = list(diccSum.keys())\n",
    "dataFrameSum = dataFrameSum.sort_values(by=['Cantidad'],ascending = False)\n",
    "\n",
    "mayorList = list(dataFrameSum.index)\n",
    "\n",
    "listaValores = []\n",
    "for i in range(len(menorList)):\n",
    "    listaValores.append([menorList[i],intermedio[i],mayorList[i]])\n",
    "\n",
    "orderdf = pd.DataFrame(listaValores,columns = ['menor 18', '18 a 30', 'mayor 30'])"
   ]
  },
  {
   "cell_type": "markdown",
   "metadata": {},
   "source": [
    "Se puede apreciar que si existe cierta diferencia entre los generos de anime vistos y el rango etario, estas diferencias se presentan a continuación en el dataframe (solo se imprime el head)"
   ]
  },
  {
   "cell_type": "code",
   "execution_count": 23,
   "metadata": {},
   "outputs": [
    {
     "data": {
      "text/html": [
       "<div>\n",
       "<style scoped>\n",
       "    .dataframe tbody tr th:only-of-type {\n",
       "        vertical-align: middle;\n",
       "    }\n",
       "\n",
       "    .dataframe tbody tr th {\n",
       "        vertical-align: top;\n",
       "    }\n",
       "\n",
       "    .dataframe thead th {\n",
       "        text-align: right;\n",
       "    }\n",
       "</style>\n",
       "<table border=\"1\" class=\"dataframe\">\n",
       "  <thead>\n",
       "    <tr style=\"text-align: right;\">\n",
       "      <th></th>\n",
       "      <th>menor 18</th>\n",
       "      <th>18 a 30</th>\n",
       "      <th>mayor 30</th>\n",
       "    </tr>\n",
       "  </thead>\n",
       "  <tbody>\n",
       "    <tr>\n",
       "      <th>3</th>\n",
       "      <td>Drama</td>\n",
       "      <td>Adventure</td>\n",
       "      <td>Adventure</td>\n",
       "    </tr>\n",
       "    <tr>\n",
       "      <th>4</th>\n",
       "      <td>Adventure</td>\n",
       "      <td>Drama</td>\n",
       "      <td>Drama</td>\n",
       "    </tr>\n",
       "    <tr>\n",
       "      <th>6</th>\n",
       "      <td>Romance</td>\n",
       "      <td>Shounen</td>\n",
       "      <td>Shounen</td>\n",
       "    </tr>\n",
       "    <tr>\n",
       "      <th>7</th>\n",
       "      <td>Shounen</td>\n",
       "      <td>Romance</td>\n",
       "      <td>Romance</td>\n",
       "    </tr>\n",
       "    <tr>\n",
       "      <th>9</th>\n",
       "      <td>Supernatural</td>\n",
       "      <td>SliceofLife</td>\n",
       "      <td>SliceofLife</td>\n",
       "    </tr>\n",
       "  </tbody>\n",
       "</table>\n",
       "</div>"
      ],
      "text/plain": [
       "       menor 18      18 a 30     mayor 30\n",
       "3         Drama    Adventure    Adventure\n",
       "4     Adventure        Drama        Drama\n",
       "6       Romance      Shounen      Shounen\n",
       "7       Shounen      Romance      Romance\n",
       "9  Supernatural  SliceofLife  SliceofLife"
      ]
     },
     "execution_count": 23,
     "metadata": {},
     "output_type": "execute_result"
    }
   ],
   "source": [
    "aux1 = orderdf['menor 18'] != orderdf['18 a 30']\n",
    "aux2 = orderdf['menor 18'] != orderdf['mayor 30']\n",
    "aux3 = orderdf['18 a 30'] != orderdf['mayor 30']\n",
    "\n",
    "orderdf[aux1 | aux2 | aux3].head()"
   ]
  },
  {
   "cell_type": "markdown",
   "metadata": {},
   "source": [
    "Como se puede apreciar existe una diferencia substancial entre menor de 18 y las otras dos categorias, mientras que ser mayor de 30 o entre 18 a 30 son más similares. Luego surge la pregunta si dados los animes que ha visto el usuario es posible predecir el rango etario. Por otro lado uno se pregunta si es posible determinar una mejor clasificación para rango etario que permita un mejor analisis."
   ]
  },
  {
   "cell_type": "markdown",
   "metadata": {},
   "source": [
    "## Trabajo realizado por cada integrante:\n",
    "\n",
    "* Ignacio Basualto\n",
    "* Raimundo Vicente \n",
    "* Renato Cerda \n",
    "* Sebastián Bustos \n",
    "* Diego Olguín"
   ]
  }
 ],
 "metadata": {
  "kernelspec": {
   "display_name": "Python 3",
   "language": "python",
   "name": "python3"
  },
  "language_info": {
   "codemirror_mode": {
    "name": "ipython",
    "version": 3
   },
   "file_extension": ".py",
   "mimetype": "text/x-python",
   "name": "python",
   "nbconvert_exporter": "python",
   "pygments_lexer": "ipython3",
   "version": "3.7.7"
  }
 },
 "nbformat": 4,
 "nbformat_minor": 4
}
