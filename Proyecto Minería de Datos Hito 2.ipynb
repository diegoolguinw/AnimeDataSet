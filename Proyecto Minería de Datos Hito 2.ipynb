{
 "cells": [
  {
   "cell_type": "markdown",
   "metadata": {},
   "source": [
    "# Proyecto Mineria de Datos\n",
    "## Hito 2\n",
    "### Integrantes\n",
    "\n",
    "Ignacio Basualto, Raimundo Vicente, Renato Cerda, Sebastián Bustos y  Diego Olguín\n",
    "\n",
    "Elección de base de datos elegida gira entorno al tema: \"Caracterizar series de anime\". El dataset utilizado se encuentra en [link](https://www.kaggle.com/azathoth42/myanimelist)"
   ]
  },
  {
   "cell_type": "markdown",
   "metadata": {},
   "source": [
    "# Aqui agregar lo del hito 1"
   ]
  },
  {
   "cell_type": "markdown",
   "metadata": {},
   "source": [
    "# Aqui agregar lo que haremos en el hito 3"
   ]
  },
  {
   "cell_type": "markdown",
   "metadata": {},
   "source": [
    "## Experimento 1 (Clustering)"
   ]
  },
  {
   "cell_type": "markdown",
   "metadata": {},
   "source": [
    "## Experimento 2 (Predicción de identidad de genero)"
   ]
  },
  {
   "cell_type": "markdown",
   "metadata": {},
   "source": [
    "Para responder la pregunta si es posible predecir la identidad de genero de un usuario dado sus caracteristicas y animes vistos. Para esto se propone la siguiente metodologia.\n",
    "\n",
    "El dataset esta dividido en tres partes luego y cada uno es más especifico que el otro, luego haremos un preprocesamiento de la información que nos permita tener tres datasets que estudiar\n",
    "\n",
    "* userList\n",
    "* userList + userAnimeList\n",
    "* userList + userAnimeList + animeList\n",
    "\n",
    "De esta forma la información partira simple y se empezara complejizando, se espera que separar asi la información entrege una mayor interpretabilidad de los modelos.\n",
    "\n",
    "En los tres dataset todavía existen variables categorícas, las que no entreguen información se van a eliminar y las que (potencialmente) lo hagan se van ya sea transformar a numeros o aplicar algun metodo como OHE, es importante notar que columnas como username son necesarias pues es la forma de poder unir todos los dataframes, al momento de hacer predicciones se eliminaran.\n",
    "\n",
    "Como nos interesa realizar predicciones realizaremos el desarrollo y enfoque en eso. Para identidad de genero se presentan clases desbalancedas, por el momento se mantendra el desbalanceo como parte de la información.\n",
    "\n",
    "A continuación se pensara que se esta trabajando con userList. En primer lugar separamos la información en train y test con el fin de poder aplicar tecnicas de reducción de dimensionalidad sin tener el bias de los datos de testeo.\n",
    "\n",
    "En primer lugar se buscara eliminar dimensionalidad utilizando correlación, a continuación se estandarizara la información y se ocuparan las tecnicas KNN, SVM y arboles para las predicciones y se utilizaran las metricas usales F1, precisión, recall y accuracy para entender cual metodo entrega una mejor clasificación.\n",
    "\n",
    "Se decide utilzar KNN y arboles pues se espra que sean capaces de generar modelos facilmente interpretativos, mientras que SVM se espera funcione bien dada su potencia. En caso de que no se tengan resultados satisfactorios o conlcusivos.\n",
    "\n",
    "Se eliminara dimensionalidad utilizando PCA y se replicara el metodo realizado anteriormente, con la idea de que quizas se redujo de una manera la dimensionalidad. Una vez comparado los resultados de este metodo entre si y con los anteriores.\n",
    "\n",
    "\n",
    "S es que sigue sin ser satisfactorio se procede al data set userList + userAnimeList. Una vez en este dataset se procede a realizar los mismo procedimientos anteriormente realizados. Y nuevamente si es que no se porduce resultados satisfactorios se procede a utilizar el data set final userList + userAnimeList + animeList.\n",
    "\n",
    "En cualquiera caso (resultados satisfactorios o no) también se va a generar un nuevo data set consistente de userList y columnas extras que indican cantidad de veces que sea ha visto un genero de anime, pues puede ser interesante buscar relación entre los generos de anime e identidad de genero. Nuevamente se procede en la modalidad eliminar columnas por correlación y por PCA."
   ]
  },
  {
   "cell_type": "markdown",
   "metadata": {},
   "source": [
    "## Experimento 3 (Recomendador de anime)"
   ]
  },
  {
   "cell_type": "markdown",
   "metadata": {},
   "source": [
    "FALTA ESTE"
   ]
  },
  {
   "cell_type": "markdown",
   "metadata": {},
   "source": [
    "# Aqui agregar lo que haremos ahora"
   ]
  },
  {
   "cell_type": "code",
   "execution_count": 1,
   "metadata": {},
   "outputs": [],
   "source": [
    "#Codigo que oculta codigo\n",
    "\n",
    "# from IPython.display import HTML\n",
    "\n",
    "# HTML('''<script>\n",
    "# code_show=true; \n",
    "# function code_toggle() {\n",
    "#  if (code_show){\n",
    "#  $('div.input').hide();\n",
    "#  } else {\n",
    "#  $('div.input').show();\n",
    "#  }\n",
    "#  code_show = !code_show\n",
    "# } \n",
    "# $( document ).ready(code_toggle);\n",
    "# </script>\n",
    "# Por default el codigo en python esta oculto. Para activarlo / desactivarlo, click <a href=\"javascript:code_toggle()\">aqui</a>.''')"
   ]
  },
  {
   "cell_type": "code",
   "execution_count": 10,
   "metadata": {},
   "outputs": [],
   "source": [
    "# IMPORTACIÓN DE LAS LIBRERÍAS\n",
    "import pandas as pd\n",
    "import numpy as np\n",
    "import ast\n",
    "import matplotlib.pyplot as plt\n",
    "import seaborn as sns\n",
    "from scipy import stats\n",
    "from IPython.display import display\n",
    "import warnings\n",
    "warnings.filterwarnings(\"ignore\")"
   ]
  },
  {
   "cell_type": "code",
   "execution_count": 17,
   "metadata": {},
   "outputs": [],
   "source": [
    "# Cargar datos preprocesados\n",
    "animeList = pd.read_csv('Datos/animeListPreprocesada.csv')\n",
    "userList = pd.read_csv('Datos/userListPreprocesada.csv')\n",
    "userAnimeList = pd.read_csv('Datos/userAnimeListPreprocesada.csv')"
   ]
  }
 ],
 "metadata": {
  "kernelspec": {
   "display_name": "Python 3",
   "language": "python",
   "name": "python3"
  },
  "language_info": {
   "codemirror_mode": {
    "name": "ipython",
    "version": 3
   },
   "file_extension": ".py",
   "mimetype": "text/x-python",
   "name": "python",
   "nbconvert_exporter": "python",
   "pygments_lexer": "ipython3",
   "version": "3.7.7"
  }
 },
 "nbformat": 4,
 "nbformat_minor": 4
}
