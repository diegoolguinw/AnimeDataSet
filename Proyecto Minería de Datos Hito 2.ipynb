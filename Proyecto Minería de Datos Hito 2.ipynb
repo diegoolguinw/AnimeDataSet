{
 "cells": [
  {
   "cell_type": "markdown",
   "metadata": {},
   "source": [
    "# Proyecto Mineria de Datos\n",
    "\n",
    "## Integrantes\n",
    "\n",
    "Ignacio Basualto, Raimundo Vicente, Renato Cerda, Sebastián Bustos y  Diego Olguín\n",
    "\n",
    "Elección de base de datos elegida gira entorno al tema: \"Caracterizar series de anime\". El dataset utilizado se encuentra en [link](https://www.kaggle.com/azathoth42/myanimelist)"
   ]
  }
 ],
 "metadata": {
  "kernelspec": {
   "display_name": "Python 3",
   "language": "python",
   "name": "python3"
  },
  "language_info": {
   "codemirror_mode": {
    "name": "ipython",
    "version": 3
   },
   "file_extension": ".py",
   "mimetype": "text/x-python",
   "name": "python",
   "nbconvert_exporter": "python",
   "pygments_lexer": "ipython3",
   "version": "3.7.7"
  }
 },
 "nbformat": 4,
 "nbformat_minor": 4
}
