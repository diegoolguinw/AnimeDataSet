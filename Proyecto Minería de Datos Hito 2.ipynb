{
 "cells": [
  {
   "cell_type": "markdown",
   "metadata": {},
   "source": [
    "# Proyecto Mineria de Datos\n",
    "## Hito 2\n",
    "### Integrantes\n",
    "\n",
    "Ignacio Basualto, Raimundo Vicente, Renato Cerda, Sebastián Bustos y  Diego Olguín\n",
    "\n",
    "Elección de base de datos elegida gira entorno al tema: \"Caracterizar series de anime\". El dataset utilizado se encuentra en [link](https://www.kaggle.com/azathoth42/myanimelist)"
   ]
  },
  {
   "cell_type": "markdown",
   "metadata": {},
   "source": [
    "# Aqui agregar lo del hito 1"
   ]
  },
  {
   "cell_type": "markdown",
   "metadata": {},
   "source": [
    "# Aqui agregar lo que haremos en el hito 3"
   ]
  },
  {
   "cell_type": "markdown",
   "metadata": {},
   "source": [
    "ta duro escribir esto\n",
    "\n",
    "Idea vaga para el cluster\n",
    "\n",
    "* Las variables categorias OHE o eliminarlas si es que no entregan información.\n",
    "* Hacer el cluster tal cual\n",
    "* Reducir dimensionalidad mediante correlacion hacer el cluster \n",
    "* Reducir dimensionalidad mediante PCA hacer el cluster \n",
    "* Juntar la información sobre episodios vistos\n",
    "* Hacer el cluster tal cual\n",
    "* Reducir dimensionalidad mediante correlacion hacer el cluster \n",
    "* Reducir dimensionalidad mediante PCA hacer el cluster \n",
    "* Juntar la información de los generos de anime que ha visto una persona a la base de datos de personas\n",
    "* Hacer el cluster tal cual\n",
    "* Reducir dimensionalidad mediante correlacion hacer el cluster \n",
    "* Reducir dimensionalidad mediante PCA hacer el cluster \n",
    "* Juntar la información sobre episodios vistos y Juntar la información de los generos de anime que ha visto una persona a la base de datos de personas\n",
    "* Hacer el cluster tal cual\n",
    "* Reducir dimensionalidad mediante correlacion hacer el cluster \n",
    "* Reducir dimensionalidad mediante PCA hacer el cluster \n",
    "\n",
    "Idea vaga para predecir genero\n",
    "* Las variables categorias OHE o eliminarlas si es que no entregan información.\n",
    "* Hacer la predicción tal cual\n",
    "* Reducir dimensionalidad mediante correlacion hacer la predicción \n",
    "* Reducir dimensionalidad mediante PCA hacer la predicción\n",
    "* Juntar la información sobre episodios vistos\n",
    "* Hacer  la predicción\n",
    "* Reducir dimensionalidad mediante correlacion hacer  la predicción\n",
    "* Reducir dimensionalidad mediante PCA hacer  la predicción\n",
    "* Juntar la información de los generos de anime que ha visto una persona a la base de datos de personas\n",
    "* Hacer la predicción\n",
    "* Reducir dimensionalidad mediante correlacion hacer la predicción\n",
    "* Reducir dimensionalidad mediante PCA hacer  la predicción\n",
    "* Juntar la información sobre episodios vistos y Juntar la información de los generos de anime que ha visto una persona a la base de datos de personas\n",
    "* Hacer  la predicción\n",
    "* Reducir dimensionalidad mediante correlacion hacer la predicción\n",
    "* Reducir dimensionalidad mediante PCA hacer  la predicción\n",
    "\n",
    "Idea vaga recomendador\n",
    "* idem a lo anterior, pero al conjunto de test quitarle un par de animes visto para ver si  el recomendador es capaz de recomendarlos\n"
   ]
  },
  {
   "cell_type": "markdown",
   "metadata": {},
   "source": [
    "# Aqui agregar lo que haremos ahora"
   ]
  },
  {
   "cell_type": "code",
   "execution_count": 1,
   "metadata": {},
   "outputs": [],
   "source": [
    "#Codigo que oculta codigo\n",
    "\n",
    "# from IPython.display import HTML\n",
    "\n",
    "# HTML('''<script>\n",
    "# code_show=true; \n",
    "# function code_toggle() {\n",
    "#  if (code_show){\n",
    "#  $('div.input').hide();\n",
    "#  } else {\n",
    "#  $('div.input').show();\n",
    "#  }\n",
    "#  code_show = !code_show\n",
    "# } \n",
    "# $( document ).ready(code_toggle);\n",
    "# </script>\n",
    "# Por default el codigo en python esta oculto. Para activarlo / desactivarlo, click <a href=\"javascript:code_toggle()\">aqui</a>.''')"
   ]
  },
  {
   "cell_type": "code",
   "execution_count": 2,
   "metadata": {},
   "outputs": [],
   "source": [
    "# IMPORTACIÓN DE LAS LIBRERÍAS\n",
    "import pandas as pd\n",
    "import numpy as np\n",
    "import ast\n",
    "import matplotlib.pyplot as plt\n",
    "import seaborn as sns\n",
    "from scipy import stats\n",
    "from IPython.display import display\n",
    "import warnings\n",
    "warnings.filterwarnings(\"ignore\")"
   ]
  },
  {
   "cell_type": "code",
   "execution_count": 3,
   "metadata": {},
   "outputs": [],
   "source": [
    "# Cargar datos preprocesados\n",
    "animeList = pd.read_csv('Datos/animeListPreprocesada.csv')\n",
    "userList = pd.read_csv('Datos/userListPreprocesada.csv')\n",
    "userAnimeList = pd.read_csv('Datos/animelists_cleaned.csv')"
   ]
  }
 ],
 "metadata": {
  "kernelspec": {
   "display_name": "Python 3",
   "language": "python",
   "name": "python3"
  },
  "language_info": {
   "codemirror_mode": {
    "name": "ipython",
    "version": 3
   },
   "file_extension": ".py",
   "mimetype": "text/x-python",
   "name": "python",
   "nbconvert_exporter": "python",
   "pygments_lexer": "ipython3",
   "version": "3.7.7"
  }
 },
 "nbformat": 4,
 "nbformat_minor": 4
}
