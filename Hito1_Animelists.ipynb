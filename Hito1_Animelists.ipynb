{
  "nbformat": 4,
  "nbformat_minor": 0,
  "metadata": {
    "colab": {
      "name": "Hito1_Animelists.ipynb",
      "provenance": []
    },
    "kernelspec": {
      "name": "python3",
      "display_name": "Python 3"
    },
    "language_info": {
      "name": "python"
    }
  },
  "cells": [
    {
      "cell_type": "markdown",
      "metadata": {
        "id": "YygaO-6bOA5f"
      },
      "source": [
        "## Explorando Animelists"
      ]
    },
    {
      "cell_type": "markdown",
      "metadata": {
        "id": "D2x3ht5iOIjE"
      },
      "source": [
        "### Importar datos y cargar librerías\n"
      ]
    },
    {
      "cell_type": "code",
      "metadata": {
        "colab": {
          "base_uri": "https://localhost:8080/"
        },
        "id": "w5GJ-TWX-wwF",
        "outputId": "4b2854d0-6e10-4a37-8d28-d7fe26e95460"
      },
      "source": [
        "from google.colab import drive\n",
        "drive.mount('/content/drive')"
      ],
      "execution_count": 1,
      "outputs": [
        {
          "output_type": "stream",
          "text": [
            "Drive already mounted at /content/drive; to attempt to forcibly remount, call drive.mount(\"/content/drive\", force_remount=True).\n"
          ],
          "name": "stdout"
        }
      ]
    },
    {
      "cell_type": "code",
      "metadata": {
        "id": "BMxUktt1-300"
      },
      "source": [
        "# Libraries\n",
        "\n",
        "import numpy as np\n",
        "from scipy import stats\n",
        "import pandas as pd\n",
        "import matplotlib.pyplot as plt\n",
        "import seaborn as sns\n",
        "import os"
      ],
      "execution_count": 2,
      "outputs": []
    },
    {
      "cell_type": "markdown",
      "metadata": {
        "id": "Nb_cdabOOVlo"
      },
      "source": [
        "Se carga el dataset desde Google Drive en formato *.csv*, para luego leer este con *pandas*.\n"
      ]
    },
    {
      "cell_type": "code",
      "metadata": {
        "id": "1KhK_RaE-_cN"
      },
      "source": [
        "path_data = '/content/drive/MyDrive/DataMining/animelists_cleaned.csv'"
      ],
      "execution_count": 3,
      "outputs": []
    },
    {
      "cell_type": "code",
      "metadata": {
        "id": "S79TD4BC_Lsw"
      },
      "source": [
        "# Read data\n",
        "\n",
        "data = pd.read_csv(path_data)"
      ],
      "execution_count": 4,
      "outputs": []
    },
    {
      "cell_type": "markdown",
      "metadata": {
        "id": "EujzYvQ4O8Zp"
      },
      "source": [
        "## Exploración numérica de los datos"
      ]
    },
    {
      "cell_type": "code",
      "metadata": {
        "colab": {
          "base_uri": "https://localhost:8080/"
        },
        "id": "CwHsxUI9_0dU",
        "outputId": "f2ee179a-2d39-4a6d-8c52-ed7356d12bfa"
      },
      "source": [
        "print('Dataset:',str(data.shape[0]),'rows,',str(data.shape[1]),'columns')"
      ],
      "execution_count": 5,
      "outputs": [
        {
          "output_type": "stream",
          "text": [
            "Dataset: 31284030 rows, 11 columns\n"
          ],
          "name": "stdout"
        }
      ]
    },
    {
      "cell_type": "code",
      "metadata": {
        "colab": {
          "base_uri": "https://localhost:8080/"
        },
        "id": "PGx_EAlO_Rx4",
        "outputId": "838a6174-bfe1-4d35-8f63-6a046284b86c"
      },
      "source": [
        "print('Dataset columns')\n",
        "print()\n",
        "for col in data.columns:\n",
        "    print(col)"
      ],
      "execution_count": 6,
      "outputs": [
        {
          "output_type": "stream",
          "text": [
            "Dataset columns\n",
            "\n",
            "username\n",
            "anime_id\n",
            "my_watched_episodes\n",
            "my_start_date\n",
            "my_finish_date\n",
            "my_score\n",
            "my_status\n",
            "my_rewatching\n",
            "my_rewatching_ep\n",
            "my_last_updated\n",
            "my_tags\n"
          ],
          "name": "stdout"
        }
      ]
    },
    {
      "cell_type": "code",
      "metadata": {
        "colab": {
          "base_uri": "https://localhost:8080/"
        },
        "id": "gPjOstlh_xxe",
        "outputId": "131e14d1-0ad6-43ac-c596-61b28fdd77d4"
      },
      "source": [
        "data.info()"
      ],
      "execution_count": 7,
      "outputs": [
        {
          "output_type": "stream",
          "text": [
            "<class 'pandas.core.frame.DataFrame'>\n",
            "RangeIndex: 31284030 entries, 0 to 31284029\n",
            "Data columns (total 11 columns):\n",
            " #   Column               Dtype  \n",
            "---  ------               -----  \n",
            " 0   username             object \n",
            " 1   anime_id             int64  \n",
            " 2   my_watched_episodes  int64  \n",
            " 3   my_start_date        object \n",
            " 4   my_finish_date       object \n",
            " 5   my_score             int64  \n",
            " 6   my_status            int64  \n",
            " 7   my_rewatching        float64\n",
            " 8   my_rewatching_ep     int64  \n",
            " 9   my_last_updated      object \n",
            " 10  my_tags              object \n",
            "dtypes: float64(1), int64(5), object(5)\n",
            "memory usage: 2.6+ GB\n"
          ],
          "name": "stdout"
        }
      ]
    },
    {
      "cell_type": "code",
      "metadata": {
        "colab": {
          "base_uri": "https://localhost:8080/",
          "height": 297
        },
        "id": "wjg6LsU0AibM",
        "outputId": "3049cc23-ded2-4ebe-bed8-60a964557a6b"
      },
      "source": [
        "data.describe()"
      ],
      "execution_count": 8,
      "outputs": [
        {
          "output_type": "execute_result",
          "data": {
            "text/html": [
              "<div>\n",
              "<style scoped>\n",
              "    .dataframe tbody tr th:only-of-type {\n",
              "        vertical-align: middle;\n",
              "    }\n",
              "\n",
              "    .dataframe tbody tr th {\n",
              "        vertical-align: top;\n",
              "    }\n",
              "\n",
              "    .dataframe thead th {\n",
              "        text-align: right;\n",
              "    }\n",
              "</style>\n",
              "<table border=\"1\" class=\"dataframe\">\n",
              "  <thead>\n",
              "    <tr style=\"text-align: right;\">\n",
              "      <th></th>\n",
              "      <th>anime_id</th>\n",
              "      <th>my_watched_episodes</th>\n",
              "      <th>my_score</th>\n",
              "      <th>my_status</th>\n",
              "      <th>my_rewatching</th>\n",
              "      <th>my_rewatching_ep</th>\n",
              "    </tr>\n",
              "  </thead>\n",
              "  <tbody>\n",
              "    <tr>\n",
              "      <th>count</th>\n",
              "      <td>3.128403e+07</td>\n",
              "      <td>3.128403e+07</td>\n",
              "      <td>3.128403e+07</td>\n",
              "      <td>3.128403e+07</td>\n",
              "      <td>2.440578e+07</td>\n",
              "      <td>3.128403e+07</td>\n",
              "    </tr>\n",
              "    <tr>\n",
              "      <th>mean</th>\n",
              "      <td>1.170326e+04</td>\n",
              "      <td>1.289615e+01</td>\n",
              "      <td>4.652315e+00</td>\n",
              "      <td>3.008111e+00</td>\n",
              "      <td>7.903045e-04</td>\n",
              "      <td>1.832994e-01</td>\n",
              "    </tr>\n",
              "    <tr>\n",
              "      <th>std</th>\n",
              "      <td>1.134844e+04</td>\n",
              "      <td>3.733380e+01</td>\n",
              "      <td>3.931615e+00</td>\n",
              "      <td>1.730421e+00</td>\n",
              "      <td>2.810124e-02</td>\n",
              "      <td>1.009172e+03</td>\n",
              "    </tr>\n",
              "    <tr>\n",
              "      <th>min</th>\n",
              "      <td>1.000000e+00</td>\n",
              "      <td>0.000000e+00</td>\n",
              "      <td>0.000000e+00</td>\n",
              "      <td>0.000000e+00</td>\n",
              "      <td>0.000000e+00</td>\n",
              "      <td>0.000000e+00</td>\n",
              "    </tr>\n",
              "    <tr>\n",
              "      <th>25%</th>\n",
              "      <td>1.601000e+03</td>\n",
              "      <td>0.000000e+00</td>\n",
              "      <td>0.000000e+00</td>\n",
              "      <td>2.000000e+00</td>\n",
              "      <td>0.000000e+00</td>\n",
              "      <td>0.000000e+00</td>\n",
              "    </tr>\n",
              "    <tr>\n",
              "      <th>50%</th>\n",
              "      <td>8.086000e+03</td>\n",
              "      <td>4.000000e+00</td>\n",
              "      <td>6.000000e+00</td>\n",
              "      <td>2.000000e+00</td>\n",
              "      <td>0.000000e+00</td>\n",
              "      <td>0.000000e+00</td>\n",
              "    </tr>\n",
              "    <tr>\n",
              "      <th>75%</th>\n",
              "      <td>1.977500e+04</td>\n",
              "      <td>1.300000e+01</td>\n",
              "      <td>8.000000e+00</td>\n",
              "      <td>4.000000e+00</td>\n",
              "      <td>0.000000e+00</td>\n",
              "      <td>0.000000e+00</td>\n",
              "    </tr>\n",
              "    <tr>\n",
              "      <th>max</th>\n",
              "      <td>3.789600e+04</td>\n",
              "      <td>9.999000e+03</td>\n",
              "      <td>1.000000e+01</td>\n",
              "      <td>5.500000e+01</td>\n",
              "      <td>1.000000e+00</td>\n",
              "      <td>5.644513e+06</td>\n",
              "    </tr>\n",
              "  </tbody>\n",
              "</table>\n",
              "</div>"
            ],
            "text/plain": [
              "           anime_id  my_watched_episodes  ...  my_rewatching  my_rewatching_ep\n",
              "count  3.128403e+07         3.128403e+07  ...   2.440578e+07      3.128403e+07\n",
              "mean   1.170326e+04         1.289615e+01  ...   7.903045e-04      1.832994e-01\n",
              "std    1.134844e+04         3.733380e+01  ...   2.810124e-02      1.009172e+03\n",
              "min    1.000000e+00         0.000000e+00  ...   0.000000e+00      0.000000e+00\n",
              "25%    1.601000e+03         0.000000e+00  ...   0.000000e+00      0.000000e+00\n",
              "50%    8.086000e+03         4.000000e+00  ...   0.000000e+00      0.000000e+00\n",
              "75%    1.977500e+04         1.300000e+01  ...   0.000000e+00      0.000000e+00\n",
              "max    3.789600e+04         9.999000e+03  ...   1.000000e+00      5.644513e+06\n",
              "\n",
              "[8 rows x 6 columns]"
            ]
          },
          "metadata": {
            "tags": []
          },
          "execution_count": 8
        }
      ]
    },
    {
      "cell_type": "code",
      "metadata": {
        "colab": {
          "base_uri": "https://localhost:8080/"
        },
        "id": "JAa4KW0zKAUH",
        "outputId": "9c30c2dc-09dd-463f-d755-a130a3cc1083"
      },
      "source": [
        "stats.iqr(data['my_watched_episodes'])"
      ],
      "execution_count": 9,
      "outputs": [
        {
          "output_type": "execute_result",
          "data": {
            "text/plain": [
              "13.0"
            ]
          },
          "metadata": {
            "tags": []
          },
          "execution_count": 9
        }
      ]
    },
    {
      "cell_type": "code",
      "metadata": {
        "colab": {
          "base_uri": "https://localhost:8080/"
        },
        "id": "JEy6s34NAz_i",
        "outputId": "dc7ee19d-597c-46a6-bc34-6aa01e8d2a23"
      },
      "source": [
        "data.isna().sum()"
      ],
      "execution_count": 10,
      "outputs": [
        {
          "output_type": "execute_result",
          "data": {
            "text/plain": [
              "username                    243\n",
              "anime_id                      0\n",
              "my_watched_episodes           0\n",
              "my_start_date                 0\n",
              "my_finish_date                0\n",
              "my_score                      0\n",
              "my_status                     0\n",
              "my_rewatching           6878247\n",
              "my_rewatching_ep              0\n",
              "my_last_updated               0\n",
              "my_tags                29290313\n",
              "dtype: int64"
            ]
          },
          "metadata": {
            "tags": []
          },
          "execution_count": 10
        }
      ]
    },
    {
      "cell_type": "markdown",
      "metadata": {
        "id": "21XVKho0PXgk"
      },
      "source": [
        "Si se eliminaran todos los valores NaN del dataset, este quedaría con muy pocos datos. Frente a esto es mejor eliminar las columnas de ***my_tags*** y ***my_rewatching***. Además, las columnas de ***username*** y ***anime_id*** no parecen, a priori, aportar mucha información, por lo que se eliminarán igualmente."
      ]
    },
    {
      "cell_type": "code",
      "metadata": {
        "colab": {
          "base_uri": "https://localhost:8080/",
          "height": 419
        },
        "id": "iTeHngmPP2Y1",
        "outputId": "894e6b21-b868-4923-a788-48ff47ff8866"
      },
      "source": [
        "col_to_del = [\n",
        "              'username',\n",
        "              'anime_id',\n",
        "              'my_rewatching',\n",
        "              'my_tags'\n",
        "]\n",
        "\n",
        "for col in col_to_del:\n",
        "    try:\n",
        "        del data[col]\n",
        "    except:\n",
        "        continue\n",
        "\n",
        "data"
      ],
      "execution_count": 11,
      "outputs": [
        {
          "output_type": "execute_result",
          "data": {
            "text/html": [
              "<div>\n",
              "<style scoped>\n",
              "    .dataframe tbody tr th:only-of-type {\n",
              "        vertical-align: middle;\n",
              "    }\n",
              "\n",
              "    .dataframe tbody tr th {\n",
              "        vertical-align: top;\n",
              "    }\n",
              "\n",
              "    .dataframe thead th {\n",
              "        text-align: right;\n",
              "    }\n",
              "</style>\n",
              "<table border=\"1\" class=\"dataframe\">\n",
              "  <thead>\n",
              "    <tr style=\"text-align: right;\">\n",
              "      <th></th>\n",
              "      <th>my_watched_episodes</th>\n",
              "      <th>my_start_date</th>\n",
              "      <th>my_finish_date</th>\n",
              "      <th>my_score</th>\n",
              "      <th>my_status</th>\n",
              "      <th>my_rewatching_ep</th>\n",
              "      <th>my_last_updated</th>\n",
              "    </tr>\n",
              "  </thead>\n",
              "  <tbody>\n",
              "    <tr>\n",
              "      <th>0</th>\n",
              "      <td>586</td>\n",
              "      <td>0000-00-00</td>\n",
              "      <td>0000-00-00</td>\n",
              "      <td>9</td>\n",
              "      <td>1</td>\n",
              "      <td>0</td>\n",
              "      <td>2013-03-03 10:52:53</td>\n",
              "    </tr>\n",
              "    <tr>\n",
              "      <th>1</th>\n",
              "      <td>26</td>\n",
              "      <td>0000-00-00</td>\n",
              "      <td>0000-00-00</td>\n",
              "      <td>7</td>\n",
              "      <td>2</td>\n",
              "      <td>0</td>\n",
              "      <td>2013-03-10 13:54:51</td>\n",
              "    </tr>\n",
              "    <tr>\n",
              "      <th>2</th>\n",
              "      <td>26</td>\n",
              "      <td>0000-00-00</td>\n",
              "      <td>0000-00-00</td>\n",
              "      <td>7</td>\n",
              "      <td>2</td>\n",
              "      <td>0</td>\n",
              "      <td>2013-04-27 16:43:35</td>\n",
              "    </tr>\n",
              "    <tr>\n",
              "      <th>3</th>\n",
              "      <td>26</td>\n",
              "      <td>0000-00-00</td>\n",
              "      <td>0000-00-00</td>\n",
              "      <td>7</td>\n",
              "      <td>2</td>\n",
              "      <td>0</td>\n",
              "      <td>2013-03-03 10:53:57</td>\n",
              "    </tr>\n",
              "    <tr>\n",
              "      <th>4</th>\n",
              "      <td>26</td>\n",
              "      <td>0000-00-00</td>\n",
              "      <td>0000-00-00</td>\n",
              "      <td>7</td>\n",
              "      <td>2</td>\n",
              "      <td>0</td>\n",
              "      <td>2013-03-27 15:59:13</td>\n",
              "    </tr>\n",
              "    <tr>\n",
              "      <th>...</th>\n",
              "      <td>...</td>\n",
              "      <td>...</td>\n",
              "      <td>...</td>\n",
              "      <td>...</td>\n",
              "      <td>...</td>\n",
              "      <td>...</td>\n",
              "      <td>...</td>\n",
              "    </tr>\n",
              "    <tr>\n",
              "      <th>31284025</th>\n",
              "      <td>48</td>\n",
              "      <td>2014-00-00</td>\n",
              "      <td>0000-00-00</td>\n",
              "      <td>9</td>\n",
              "      <td>1</td>\n",
              "      <td>0</td>\n",
              "      <td>2015-09-07 17:33:03</td>\n",
              "    </tr>\n",
              "    <tr>\n",
              "      <th>31284026</th>\n",
              "      <td>22</td>\n",
              "      <td>0000-00-00</td>\n",
              "      <td>0000-00-00</td>\n",
              "      <td>9</td>\n",
              "      <td>1</td>\n",
              "      <td>0</td>\n",
              "      <td>2015-09-07 17:32:05</td>\n",
              "    </tr>\n",
              "    <tr>\n",
              "      <th>31284027</th>\n",
              "      <td>39</td>\n",
              "      <td>0000-00-00</td>\n",
              "      <td>0000-00-00</td>\n",
              "      <td>8</td>\n",
              "      <td>2</td>\n",
              "      <td>0</td>\n",
              "      <td>2010-03-29 04:24:12</td>\n",
              "    </tr>\n",
              "    <tr>\n",
              "      <th>31284028</th>\n",
              "      <td>52</td>\n",
              "      <td>0000-00-00</td>\n",
              "      <td>0000-00-00</td>\n",
              "      <td>9</td>\n",
              "      <td>2</td>\n",
              "      <td>0</td>\n",
              "      <td>2009-12-23 05:45:14</td>\n",
              "    </tr>\n",
              "    <tr>\n",
              "      <th>31284029</th>\n",
              "      <td>58</td>\n",
              "      <td>0000-00-00</td>\n",
              "      <td>0000-00-00</td>\n",
              "      <td>10</td>\n",
              "      <td>1</td>\n",
              "      <td>0</td>\n",
              "      <td>2008-04-05 11:36:20</td>\n",
              "    </tr>\n",
              "  </tbody>\n",
              "</table>\n",
              "<p>31284030 rows × 7 columns</p>\n",
              "</div>"
            ],
            "text/plain": [
              "          my_watched_episodes  ...      my_last_updated\n",
              "0                         586  ...  2013-03-03 10:52:53\n",
              "1                          26  ...  2013-03-10 13:54:51\n",
              "2                          26  ...  2013-04-27 16:43:35\n",
              "3                          26  ...  2013-03-03 10:53:57\n",
              "4                          26  ...  2013-03-27 15:59:13\n",
              "...                       ...  ...                  ...\n",
              "31284025                   48  ...  2015-09-07 17:33:03\n",
              "31284026                   22  ...  2015-09-07 17:32:05\n",
              "31284027                   39  ...  2010-03-29 04:24:12\n",
              "31284028                   52  ...  2009-12-23 05:45:14\n",
              "31284029                   58  ...  2008-04-05 11:36:20\n",
              "\n",
              "[31284030 rows x 7 columns]"
            ]
          },
          "metadata": {
            "tags": []
          },
          "execution_count": 11
        }
      ]
    },
    {
      "cell_type": "markdown",
      "metadata": {
        "id": "R7KBwaLuQWlM"
      },
      "source": [
        "## Exploración visual de los datos"
      ]
    },
    {
      "cell_type": "code",
      "metadata": {
        "colab": {
          "base_uri": "https://localhost:8080/",
          "height": 706
        },
        "id": "TCZ3y1e4BvBR",
        "outputId": "3060b910-7bfa-441d-a712-6954c6cde0bb"
      },
      "source": [
        "data.hist(figsize=(20,10))"
      ],
      "execution_count": 12,
      "outputs": [
        {
          "output_type": "execute_result",
          "data": {
            "text/plain": [
              "array([[<matplotlib.axes._subplots.AxesSubplot object at 0x7fd88497c1d0>,\n",
              "        <matplotlib.axes._subplots.AxesSubplot object at 0x7fd884936810>],\n",
              "       [<matplotlib.axes._subplots.AxesSubplot object at 0x7fd884955e90>,\n",
              "        <matplotlib.axes._subplots.AxesSubplot object at 0x7fd8848f6550>]],\n",
              "      dtype=object)"
            ]
          },
          "metadata": {
            "tags": []
          },
          "execution_count": 12
        },
        {
          "output_type": "display_data",
          "data": {
            "image/png": "[encoded data removed]",
            "text/plain": [
              "<Figure size 1440x720 with 4 Axes>"
            ]
          },
          "metadata": {
            "tags": [],
            "needs_background": "light"
          }
        }
      ]
    },
    {
      "cell_type": "code",
      "metadata": {
        "colab": {
          "base_uri": "https://localhost:8080/",
          "height": 530
        },
        "id": "DX9hwtnGCTAV",
        "outputId": "9bd608ba-5248-4583-b6fe-8ba1c0e41102"
      },
      "source": [
        "# More attention in my_score\n",
        "\n",
        "fig, (ax1, ax2) = plt.subplots(1, 2, figsize=(15,8))\n",
        "ax1.hist(data['my_score'],bins=50,color='orange')\n",
        "ax1.set_title('Frecuency of scores values')\n",
        "ax1.set_xlabel('My score')\n",
        "ax1.set_ylabel('Frecuency')\n",
        "\n",
        "ax2.hist(data['my_watched_episodes'], bins=300,log=True)\n",
        "ax2.set_xlim(-50,3000)\n",
        "ax2.set_title('Frecuency of watched episodes quantity (log)')\n",
        "ax2.set_xlabel('My watched episodes')"
      ],
      "execution_count": 13,
      "outputs": [
        {
          "output_type": "execute_result",
          "data": {
            "text/plain": [
              "Text(0.5, 0, 'My watched episodes')"
            ]
          },
          "metadata": {
            "tags": []
          },
          "execution_count": 13
        },
        {
          "output_type": "display_data",
          "data": {
            "image/png": "[encoded data removed]",
            "text/plain": [
              "<Figure size 1080x576 with 2 Axes>"
            ]
          },
          "metadata": {
            "tags": [],
            "needs_background": "light"
          }
        }
      ]
    },
    {
      "cell_type": "code",
      "metadata": {
        "id": "bgoQva8fSdAo"
      },
      "source": [
        "# Estas lineas de codigo cuantos valores 0 hay en las columnas pedidas\n",
        "# pero se demora mucho en correr (o derechamente no corre)\n",
        "\n",
        "# Tengo que buscar una forma más eficiente de hacerlo\n",
        "\n",
        "#score_zeros = data[data['my_score']==0].sum()\n",
        "#wat_epi_zeros = data[data['my_watched_episodes']==0].sum()"
      ],
      "execution_count": null,
      "outputs": []
    },
    {
      "cell_type": "markdown",
      "metadata": {
        "id": "7NOeFS-wTxwk"
      },
      "source": [
        "Aquí pareciese haber una relación entre:\n",
        "\n",
        "\n",
        "1.   La gran cantidad de ceros que hay en ***my_score*** y ***my_watched_videos***.\n",
        "2.   Las curvas posteriores a la gran cantidad de 0's en ambos atributos.\n",
        "\n"
      ]
    },
    {
      "cell_type": "code",
      "metadata": {
        "id": "WiVgszJxC22M"
      },
      "source": [
        "# Outliers my_watched_episodes\n",
        "\n",
        "fig = plt.figure(figsize=(20,5))\n",
        "ax = sns.boxplot(x=data['my_watched_episodes'])\n",
        "ax = plt.xlabel('My Watched Episodes')\n",
        "\n",
        "# Outliers my_score\n",
        "fig = plt.figure(figsize=(20,5),)\n",
        "ax = sns.boxplot(x=data['my_score'])\n",
        "ax = plt.xlabel('My Score')\n",
        "\n",
        "# Outliers my_status\n",
        "\n",
        "fig = plt.figure(figsize=(20,5),)\n",
        "ax = sns.boxplot(x=data['my_status'])\n",
        "ax = plt.xlabel('My Status')"
      ],
      "execution_count": null,
      "outputs": []
    },
    {
      "cell_type": "code",
      "metadata": {
        "id": "ss8sSYe7Gh7c"
      },
      "source": [
        "# Correlations\n",
        "\n",
        "data.corr()"
      ],
      "execution_count": null,
      "outputs": []
    }
  ]
}