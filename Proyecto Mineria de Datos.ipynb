{
 "cells": [
  {
   "cell_type": "markdown",
   "metadata": {},
   "source": [
    "# Proyecto Mineria de Datos\n",
    "\n",
    "## Integrantes\n",
    "\n",
    "- Ignacio Basualto\n",
    "- Raimundo Vicente\n",
    "- Renato Cerda\n",
    "- Sebastián Bustos\t\n",
    "- Diego Olguín"
   ]
  },
  {
   "cell_type": "markdown",
   "metadata": {},
   "source": [
    "# Tabla de contenidos\n",
    "\n",
    "1. [Eleccion de base de datos](#1)\n",
    "2. [Motivación](#2)\n",
    "3. [Exploración de datos](#3)"
   ]
  },
  {
   "cell_type": "markdown",
   "metadata": {},
   "source": [
    "# Elección de base de datos <a class=\"anchor\" id=\"1\"></a>\n",
    "## Caracterizar series de anime\n",
    "### El dataset utilizado se encuentra en https://www.kaggle.com/azathoth42/myanimelist"
   ]
  },
  {
   "cell_type": "markdown",
   "metadata": {},
   "source": [
    "# Motivación <a class=\"anchor\" id=\"2\"></a>"
   ]
  },
  {
   "cell_type": "markdown",
   "metadata": {},
   "source": [
    "Hoy en dia el anime forma gran parte de la cultura occidental, ha tenido un impacto grande en la sociedad; \n",
    "no solo dentro de japón si no que ha llegado a ser tendencia en todo el mundo. Como ejemplo de lo anterior se encuentra\n",
    "Shingeki no Kyojin / Attack On Tittan que es un anime que actualmente se encuentra en emisión que ha tenido de los ratings y recepeciones más altos dentro de la\n",
    "televisión y medios de comunicación. Por lo mismo el anime ha empezado a tener un efecto economico importante en la sociedad y por tal motivo es de interes poder comprender relaciones entre usuarios y los animes.\n",
    "\n",
    "Dado lo anterior podría ser de interes estudiar este dataset para comprender \n",
    "\n",
    "- La demografía de los auditores de anime.\n",
    "- El cambio que ha tenido el anime a lo largo de los años.\n",
    "- Estudiar el efecto que tienen ciertos productores o personas en el exito del anime \n",
    "- Ser capaz de hacer recomendaciones a usuarios sobre posibles animes que pueden interesarles dado sus gustos"
   ]
  },
  {
   "cell_type": "markdown",
   "metadata": {},
   "source": [
    "# Exploración de datos <a class=\"anchor\" id=\"3\"></a>"
   ]
  },
  {
   "cell_type": "markdown",
   "metadata": {},
   "source": [
    "La base de datos presentada tiene tres versiones, cada una más preprocesada que la anterior. Estas son:\n",
    "\n",
    "1. Sin procesamiento\n",
    "2. Se eliminaron los suarios que tienen atributos faltantes dentro de las siguientes categorias\n",
    "    * Fecha de Nacimiento\n",
    "    * Lugar de Residencia\n",
    "    * Identidad de Genero\n",
    "3. Dado la base de datos filtrada en 2. se"
   ]
  }
 ],
 "metadata": {
  "kernelspec": {
   "display_name": "Python 3",
   "language": "python",
   "name": "python3"
  },
  "language_info": {
   "codemirror_mode": {
    "name": "ipython",
    "version": 3
   },
   "file_extension": ".py",
   "mimetype": "text/x-python",
   "name": "python",
   "nbconvert_exporter": "python",
   "pygments_lexer": "ipython3",
   "version": "3.7.7"
  }
 },
 "nbformat": 4,
 "nbformat_minor": 4
}
